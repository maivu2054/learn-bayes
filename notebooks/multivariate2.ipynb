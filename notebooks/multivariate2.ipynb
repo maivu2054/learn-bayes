{
 "cells": [
  {
   "cell_type": "code",
   "execution_count": 1,
   "metadata": {},
   "outputs": [],
   "source": [
    "import numpy as np\n",
    "import pandas as pd\n",
    "\n",
    "import matplotlib.pyplot as plt\n",
    "import arviz as az\n",
    "import seaborn as sns\n",
    "%matplotlib inline\n",
    "az.style.use(\"arviz-darkgrid\")\n",
    "\n",
    "from jax import numpy as jnp\n",
    "from jax import lax\n",
    "from jax.random import PRNGKey\n",
    "\n",
    "import numpyro\n",
    "from numpyro.infer import SVI, Predictive\n",
    "from numpyro.optim import Adam\n",
    "from numpyro.contrib.autoguide import AutoLaplaceApproximation, AutoContinuousELBO\n",
    "import numpyro.diagnostics as diag\n",
    "import numpyro.distributions as dist\n",
    "\n",
    "from causalgraphicalmodels import CausalGraphicalModel as CGM\n",
    "\n",
    "from sklearn.preprocessing import StandardScaler\n",
    "from sklearn.linear_model import LinearRegression as OLS\n",
    "\n",
    "from itertools import combinations"
   ]
  },
  {
   "cell_type": "code",
   "execution_count": null,
   "metadata": {},
   "outputs": [],
   "source": [
    "class quap():\n",
    "    def __init__(model):\n",
    "        self.guide = AutoLaplaceApproximation(model)\n",
    "    \n",
    "    def infer(rng=0, svi_len=1000, prior_len=20, post_len=(1000,), **kwargs):\n",
    "        svi = SVI(model, guide, Adam(1), AutoContinuousELBO(), **kwargs)\n",
    "        init_state = svi.init(PRNGKey(rng))\n",
    "        state, loss = lax.scan(lambda x, i: svi.update(x), init_state, np.zeros(svi_len))\n",
    "        param = svi.get_params(state)\n",
    "        self.posterior = self.guide.sample_posterior(PRNGKey(rng), param, post_len)\n",
    "        self.prior = Predictive(self.guide.model, num_samples=20)\n",
    "        self.predictor = Predictive(self.guide.model, post)\n",
    "        \n",
    "    def precis(guide, param, prob=0.9):\n",
    "        s = diag.summary(self.posterior, prob, False)\n",
    "        return pd.DataFrame(s).T"
   ]
  },
  {
   "cell_type": "code",
   "execution_count": 207,
   "metadata": {},
   "outputs": [
    {
     "name": "stdout",
     "output_type": "stream",
     "text": [
      "[['M' 'K']\n",
      " ['M' 'N']]\n",
      "[('N', 'K', {'M'})]\n",
      "[['K' 'M']\n",
      " ['M' 'N']]\n",
      "[('N', 'K', {'M'})]\n",
      "[['M' 'K']\n",
      " ['N' 'M']]\n",
      "[('N', 'K', {'M'})]\n",
      "[['K' 'M']\n",
      " ['N' 'M']]\n",
      "[('N', 'K', set())]\n"
     ]
    }
   ],
   "source": [
    "\n",
    "\n",
    "l = np.array([('M','K'), ('M','N')])\n",
    "\n",
    "for i in range(len(l)+1):\n",
    "    for j in combinations(range(len(l)), i):\n",
    "        l2 = l.copy()\n",
    "        for elem in j:\n",
    "            l2[elem] = np.flip(l2[elem])\n",
    "        try:\n",
    "            dag = CGM(nodes=['M','K','N'],edges=l2)\n",
    "            print(l2)\n",
    "            print(dag.get_all_independence_relationships())\n",
    "        except AssertionError:\n",
    "            pass"
   ]
  },
  {
   "cell_type": "code",
   "execution_count": 208,
   "metadata": {},
   "outputs": [],
   "source": [
    "import networkx as nx\n"
   ]
  },
  {
   "cell_type": "code",
   "execution_count": null,
   "metadata": {},
   "outputs": [],
   "source": [
    "nx.draw_networkx_nodes()"
   ]
  },
  {
   "cell_type": "markdown",
   "metadata": {},
   "source": [
    "# MultiVariate Regression 2"
   ]
  },
  {
   "cell_type": "code",
   "execution_count": 218,
   "metadata": {},
   "outputs": [
    {
     "data": {
      "text/html": [
       "<div>\n",
       "<style scoped>\n",
       "    .dataframe tbody tr th:only-of-type {\n",
       "        vertical-align: middle;\n",
       "    }\n",
       "\n",
       "    .dataframe tbody tr th {\n",
       "        vertical-align: top;\n",
       "    }\n",
       "\n",
       "    .dataframe thead th {\n",
       "        text-align: right;\n",
       "    }\n",
       "</style>\n",
       "<table border=\"1\" class=\"dataframe\">\n",
       "  <thead>\n",
       "    <tr style=\"text-align: right;\">\n",
       "      <th></th>\n",
       "      <th>clade</th>\n",
       "      <th>species</th>\n",
       "      <th>kcal.per.g</th>\n",
       "      <th>perc.fat</th>\n",
       "      <th>perc.protein</th>\n",
       "      <th>perc.lactose</th>\n",
       "      <th>mass</th>\n",
       "      <th>neocortex.perc</th>\n",
       "    </tr>\n",
       "  </thead>\n",
       "  <tbody>\n",
       "    <tr>\n",
       "      <th>0</th>\n",
       "      <td>Strepsirrhine</td>\n",
       "      <td>Eulemur fulvus</td>\n",
       "      <td>0.49</td>\n",
       "      <td>16.60</td>\n",
       "      <td>15.42</td>\n",
       "      <td>67.98</td>\n",
       "      <td>1.95</td>\n",
       "      <td>55.16</td>\n",
       "    </tr>\n",
       "    <tr>\n",
       "      <th>1</th>\n",
       "      <td>Strepsirrhine</td>\n",
       "      <td>E macaco</td>\n",
       "      <td>0.51</td>\n",
       "      <td>19.27</td>\n",
       "      <td>16.91</td>\n",
       "      <td>63.82</td>\n",
       "      <td>2.09</td>\n",
       "      <td>NaN</td>\n",
       "    </tr>\n",
       "    <tr>\n",
       "      <th>2</th>\n",
       "      <td>Strepsirrhine</td>\n",
       "      <td>E mongoz</td>\n",
       "      <td>0.46</td>\n",
       "      <td>14.11</td>\n",
       "      <td>16.85</td>\n",
       "      <td>69.04</td>\n",
       "      <td>2.51</td>\n",
       "      <td>NaN</td>\n",
       "    </tr>\n",
       "    <tr>\n",
       "      <th>3</th>\n",
       "      <td>Strepsirrhine</td>\n",
       "      <td>E rubriventer</td>\n",
       "      <td>0.48</td>\n",
       "      <td>14.91</td>\n",
       "      <td>13.18</td>\n",
       "      <td>71.91</td>\n",
       "      <td>1.62</td>\n",
       "      <td>NaN</td>\n",
       "    </tr>\n",
       "    <tr>\n",
       "      <th>4</th>\n",
       "      <td>Strepsirrhine</td>\n",
       "      <td>Lemur catta</td>\n",
       "      <td>0.60</td>\n",
       "      <td>27.28</td>\n",
       "      <td>19.50</td>\n",
       "      <td>53.22</td>\n",
       "      <td>2.19</td>\n",
       "      <td>NaN</td>\n",
       "    </tr>\n",
       "  </tbody>\n",
       "</table>\n",
       "</div>"
      ],
      "text/plain": [
       "           clade         species  kcal.per.g  perc.fat  perc.protein  \\\n",
       "0  Strepsirrhine  Eulemur fulvus        0.49     16.60         15.42   \n",
       "1  Strepsirrhine        E macaco        0.51     19.27         16.91   \n",
       "2  Strepsirrhine        E mongoz        0.46     14.11         16.85   \n",
       "3  Strepsirrhine   E rubriventer        0.48     14.91         13.18   \n",
       "4  Strepsirrhine     Lemur catta        0.60     27.28         19.50   \n",
       "\n",
       "   perc.lactose  mass  neocortex.perc  \n",
       "0         67.98  1.95           55.16  \n",
       "1         63.82  2.09             NaN  \n",
       "2         69.04  2.51             NaN  \n",
       "3         71.91  1.62             NaN  \n",
       "4         53.22  2.19             NaN  "
      ]
     },
     "execution_count": 218,
     "metadata": {},
     "output_type": "execute_result"
    }
   ],
   "source": [
    "url = r\"https://raw.githubusercontent.com/fehiepsi/rethinking-numpyro/master/data/milk.csv\"\n",
    "data = pd.read_csv(url, sep=';')\n",
    "data.head()"
   ]
  },
  {
   "cell_type": "code",
   "execution_count": 139,
   "metadata": {},
   "outputs": [],
   "source": [
    "K = 'kcal.per.g'\n",
    "M = 'mass'\n",
    "LM = 'log_mass'\n",
    "N = 'neocortex.perc'"
   ]
  },
  {
   "cell_type": "code",
   "execution_count": 140,
   "metadata": {},
   "outputs": [],
   "source": [
    "data.dropna(subset=[K,M,N], inplace=True)"
   ]
  },
  {
   "cell_type": "code",
   "execution_count": 141,
   "metadata": {},
   "outputs": [],
   "source": [
    "data[LM] = np.log(data[[M]])"
   ]
  },
  {
   "cell_type": "code",
   "execution_count": 142,
   "metadata": {},
   "outputs": [],
   "source": [
    "scalers = dict()\n",
    "for col in [K,LM,N]:\n",
    "    data[col + \"_origin\"] = data[col]\n",
    "    scalers[col] = StandardScaler(copy=False).fit(data[[col]])\n",
    "    data[col] = scalers[col].transform(data[[col + \"_origin\"]])"
   ]
  },
  {
   "cell_type": "markdown",
   "metadata": {},
   "source": [
    "# Do bigger brains produce better milk?"
   ]
  },
  {
   "cell_type": "code",
   "execution_count": 134,
   "metadata": {},
   "outputs": [
    {
     "data": {
      "image/png": "[encoded data removed]",
      "text/plain": [
       "<Figure size 1000x400 with 2 Axes>"
      ]
     },
     "metadata": {},
     "output_type": "display_data"
    }
   ],
   "source": [
    "fig, ax = plt.subplots(1,2, figsize=(10,4), sharey=True)\n",
    "sns.regplot(M, K, data=data, ax=ax[0]);\n",
    "sns.regplot(N, K, data=data, ax=ax[1]);"
   ]
  },
  {
   "cell_type": "markdown",
   "metadata": {},
   "source": [
    "## Simple regression\n",
    "Let's Regress D on A\n",
    "$$\\begin{align}\n",
    "K_i &∼ \\text{Normal}( \\mu_i , \\sigma) \\\\\n",
    "\\mu_i &= a + b_NN_i \\\\\n",
    "a &∼ \\text{Normal}(0, 0.2)\\\\\n",
    "b_N &∼ \\text{Normal}(0, 0.5)\\\\\n",
    "\\sigma &∼ \\text{Exponential}(1)\n",
    "\\end{align}$$"
   ]
  },
  {
   "cell_type": "code",
   "execution_count": 209,
   "metadata": {},
   "outputs": [
    {
     "data": {
      "text/plain": [
       "<matplotlib.axes._subplots.AxesSubplot at 0x7fe9e7a8f290>"
      ]
     },
     "execution_count": 209,
     "metadata": {},
     "output_type": "execute_result"
    },
    {
     "data": {
      "image/png": "[encoded data removed]",
      "text/plain": [
       "<Figure size 720x480 with 1 Axes>"
      ]
     },
     "metadata": {},
     "output_type": "display_data"
    }
   ],
   "source": [
    "sns.regplot(M,N, data=data)"
   ]
  },
  {
   "cell_type": "code",
   "execution_count": 217,
   "metadata": {},
   "outputs": [
    {
     "data": {
      "text/html": [
       "<div>\n",
       "<style scoped>\n",
       "    .dataframe tbody tr th:only-of-type {\n",
       "        vertical-align: middle;\n",
       "    }\n",
       "\n",
       "    .dataframe tbody tr th {\n",
       "        vertical-align: top;\n",
       "    }\n",
       "\n",
       "    .dataframe thead th {\n",
       "        text-align: right;\n",
       "    }\n",
       "</style>\n",
       "<table border=\"1\" class=\"dataframe\">\n",
       "  <thead>\n",
       "    <tr style=\"text-align: right;\">\n",
       "      <th></th>\n",
       "      <th>clade</th>\n",
       "      <th>species</th>\n",
       "      <th>kcal.per.g</th>\n",
       "      <th>perc.fat</th>\n",
       "      <th>perc.protein</th>\n",
       "      <th>perc.lactose</th>\n",
       "      <th>mass</th>\n",
       "      <th>neocortex.perc</th>\n",
       "      <th>kcal.per.g_origin</th>\n",
       "      <th>mass_origin</th>\n",
       "      <th>neocortex.perc_origin</th>\n",
       "      <th>log_mass</th>\n",
       "      <th>log_mass_origin</th>\n",
       "      <th>K</th>\n",
       "      <th>clade_id</th>\n",
       "    </tr>\n",
       "  </thead>\n",
       "  <tbody>\n",
       "    <tr>\n",
       "      <th>23</th>\n",
       "      <td>Ape</td>\n",
       "      <td>Pongo pygmaeus</td>\n",
       "      <td>-0.169476</td>\n",
       "      <td>37.78</td>\n",
       "      <td>7.37</td>\n",
       "      <td>54.85</td>\n",
       "      <td>0.852646</td>\n",
       "      <td>-0.814338</td>\n",
       "      <td>-0.641410</td>\n",
       "      <td>35.48</td>\n",
       "      <td>0.636245</td>\n",
       "      <td>-0.822183</td>\n",
       "      <td>-0.159411</td>\n",
       "      <td>-0.151584</td>\n",
       "      <td>0</td>\n",
       "    </tr>\n",
       "    <tr>\n",
       "      <th>24</th>\n",
       "      <td>Ape</td>\n",
       "      <td>Gorilla gorilla gorilla</td>\n",
       "      <td>-0.774748</td>\n",
       "      <td>27.18</td>\n",
       "      <td>16.29</td>\n",
       "      <td>56.53</td>\n",
       "      <td>2.658342</td>\n",
       "      <td>-0.245405</td>\n",
       "      <td>-0.956680</td>\n",
       "      <td>79.43</td>\n",
       "      <td>0.867663</td>\n",
       "      <td>1.633597</td>\n",
       "      <td>0.977703</td>\n",
       "      <td>-0.692956</td>\n",
       "      <td>0</td>\n",
       "    </tr>\n",
       "    <tr>\n",
       "      <th>26</th>\n",
       "      <td>Ape</td>\n",
       "      <td>Pan paniscus</td>\n",
       "      <td>-0.895802</td>\n",
       "      <td>21.18</td>\n",
       "      <td>11.68</td>\n",
       "      <td>67.14</td>\n",
       "      <td>1.068754</td>\n",
       "      <td>-1.247406</td>\n",
       "      <td>-1.019734</td>\n",
       "      <td>40.74</td>\n",
       "      <td>0.460092</td>\n",
       "      <td>-0.334306</td>\n",
       "      <td>0.066494</td>\n",
       "      <td>-0.801230</td>\n",
       "      <td>0</td>\n",
       "    </tr>\n",
       "    <tr>\n",
       "      <th>27</th>\n",
       "      <td>Ape</td>\n",
       "      <td>P troglodytes</td>\n",
       "      <td>-0.048422</td>\n",
       "      <td>36.84</td>\n",
       "      <td>9.54</td>\n",
       "      <td>53.62</td>\n",
       "      <td>0.755274</td>\n",
       "      <td>1.325529</td>\n",
       "      <td>-0.578357</td>\n",
       "      <td>33.11</td>\n",
       "      <td>1.506651</td>\n",
       "      <td>-1.084072</td>\n",
       "      <td>-0.280675</td>\n",
       "      <td>-0.043310</td>\n",
       "      <td>0</td>\n",
       "    </tr>\n",
       "    <tr>\n",
       "      <th>28</th>\n",
       "      <td>Ape</td>\n",
       "      <td>Homo sapiens</td>\n",
       "      <td>1.888448</td>\n",
       "      <td>50.49</td>\n",
       "      <td>9.84</td>\n",
       "      <td>39.67</td>\n",
       "      <td>1.652576</td>\n",
       "      <td>0.981621</td>\n",
       "      <td>0.430506</td>\n",
       "      <td>54.95</td>\n",
       "      <td>1.366764</td>\n",
       "      <td>0.606964</td>\n",
       "      <td>0.502335</td>\n",
       "      <td>1.689079</td>\n",
       "      <td>0</td>\n",
       "    </tr>\n",
       "  </tbody>\n",
       "</table>\n",
       "</div>"
      ],
      "text/plain": [
       "   clade                  species  kcal.per.g  perc.fat  perc.protein  \\\n",
       "23   Ape           Pongo pygmaeus   -0.169476     37.78          7.37   \n",
       "24   Ape  Gorilla gorilla gorilla   -0.774748     27.18         16.29   \n",
       "26   Ape             Pan paniscus   -0.895802     21.18         11.68   \n",
       "27   Ape            P troglodytes   -0.048422     36.84          9.54   \n",
       "28   Ape             Homo sapiens    1.888448     50.49          9.84   \n",
       "\n",
       "    perc.lactose      mass  neocortex.perc  kcal.per.g_origin  mass_origin  \\\n",
       "23         54.85  0.852646       -0.814338          -0.641410        35.48   \n",
       "24         56.53  2.658342       -0.245405          -0.956680        79.43   \n",
       "26         67.14  1.068754       -1.247406          -1.019734        40.74   \n",
       "27         53.62  0.755274        1.325529          -0.578357        33.11   \n",
       "28         39.67  1.652576        0.981621           0.430506        54.95   \n",
       "\n",
       "    neocortex.perc_origin  log_mass  log_mass_origin         K  clade_id  \n",
       "23               0.636245 -0.822183        -0.159411 -0.151584         0  \n",
       "24               0.867663  1.633597         0.977703 -0.692956         0  \n",
       "26               0.460092 -0.334306         0.066494 -0.801230         0  \n",
       "27               1.506651 -1.084072        -0.280675 -0.043310         0  \n",
       "28               1.366764  0.606964         0.502335  1.689079         0  "
      ]
     },
     "execution_count": 217,
     "metadata": {},
     "output_type": "execute_result"
    }
   ],
   "source": [
    "data"
   ]
  },
  {
   "cell_type": "code",
   "execution_count": 270,
   "metadata": {},
   "outputs": [
    {
     "data": {
      "text/plain": [
       "Index(['Ape', 'New World Monkey', 'Old World Monkey', 'Strepsirrhine'], dtype='object')"
      ]
     },
     "execution_count": 270,
     "metadata": {},
     "output_type": "execute_result"
    }
   ],
   "source": [
    "d = data\n",
    "d[\"clade_id\"] = d.clade.astype(\"category\").cat.codes\n",
    "d['clade'].cat.categories"
   ]
  },
  {
   "cell_type": "code",
   "execution_count": null,
   "metadata": {},
   "outputs": [],
   "source": []
  },
  {
   "cell_type": "code",
   "execution_count": 272,
   "metadata": {},
   "outputs": [],
   "source": [
    "import scipy.stats as st"
   ]
  },
  {
   "cell_type": "code",
   "execution_count": 432,
   "metadata": {},
   "outputs": [],
   "source": [
    "v1 = st.norm().rvs(1000)\n",
    "v2 = st.norm(v1 ).rvs()\n",
    "\n",
    "outcome = st.norm(loc=v1+v2).rvs()"
   ]
  },
  {
   "cell_type": "code",
   "execution_count": 433,
   "metadata": {},
   "outputs": [
    {
     "data": {
      "text/plain": [
       "array([2.09650078])"
      ]
     },
     "execution_count": 433,
     "metadata": {},
     "output_type": "execute_result"
    }
   ],
   "source": [
    "o1 = OLS()\n",
    "o1.fit(v1.reshape(-1,1), outcome)\n",
    "o1.coef_"
   ]
  },
  {
   "cell_type": "code",
   "execution_count": 434,
   "metadata": {},
   "outputs": [
    {
     "data": {
      "text/plain": [
       "array([1.5268527])"
      ]
     },
     "execution_count": 434,
     "metadata": {},
     "output_type": "execute_result"
    }
   ],
   "source": [
    "o2 = OLS()\n",
    "o2.fit(v2.reshape(-1,1), outcome)\n",
    "o2.coef_"
   ]
  },
  {
   "cell_type": "code",
   "execution_count": 435,
   "metadata": {},
   "outputs": [
    {
     "data": {
      "text/plain": [
       "array([1.01504539, 1.0181144 ])"
      ]
     },
     "execution_count": 435,
     "metadata": {},
     "output_type": "execute_result"
    }
   ],
   "source": [
    "o3 = OLS()\n",
    "o3.fit(np.vstack([v1,v2]).T, outcome)\n",
    "o3.coef_"
   ]
  },
  {
   "cell_type": "code",
   "execution_count": 431,
   "metadata": {},
   "outputs": [
    {
     "data": {
      "text/plain": [
       "array([ 7.70351862e-01,  1.67660930e+00,  2.73471537e-01,  5.07865393e+00,\n",
       "        7.82731212e-01, -6.51839384e+00,  1.06011108e+00, -1.56000881e+00,\n",
       "        2.13396386e+00, -1.85530830e+00,  2.29721446e-01, -6.76721781e-01,\n",
       "        1.00482340e+00,  4.87327677e+00, -7.61951276e-01,  4.90065287e-01,\n",
       "        2.73264544e+00,  7.47199628e-01, -9.17889174e-01, -1.84832542e+00,\n",
       "       -1.56069560e+00, -1.11053140e+00, -4.10321495e+00, -2.57910649e-01,\n",
       "       -5.64578893e-01, -1.65238105e+00,  8.28755341e-01,  5.26621016e+00,\n",
       "        9.34472641e-01,  2.68095796e+00,  1.92756889e+00, -4.85335506e+00,\n",
       "        5.59567447e-01, -3.25828744e+00, -1.40401371e+00,  2.76577417e-01,\n",
       "        2.85251794e+00, -3.08039213e+00, -2.10359409e-03,  6.03454250e-01,\n",
       "        2.48359224e+00,  4.46602939e-01, -2.90844715e+00, -8.49751872e-01,\n",
       "       -1.80181352e+00,  5.96569278e-01, -5.13662634e+00,  2.09211380e+00,\n",
       "        4.48569324e-01,  1.17778655e-01,  2.42938598e+00, -8.51073042e-02,\n",
       "       -3.87722193e-01, -1.01600777e+00,  1.34053993e+00,  1.49812981e+00,\n",
       "       -7.58979604e-01,  2.05337545e-01,  5.95429624e-02, -8.82989562e-01,\n",
       "       -3.79655789e-01,  3.62494122e+00, -1.76520491e+00,  2.12640586e+00,\n",
       "        1.26886825e+00,  6.69578318e+00,  1.16255139e+00, -6.63984135e+00,\n",
       "        1.54603479e+00, -2.96731253e+00,  1.51721078e+00,  1.25002873e+00,\n",
       "       -3.15906428e+00,  2.90975860e+00,  9.13019888e-01, -1.15192226e+00,\n",
       "       -1.94639752e-01,  8.46032592e-01,  1.30396326e+00, -8.02703923e-01,\n",
       "       -1.14361963e+00, -4.18012456e+00,  1.05461033e+00,  1.70630439e+00,\n",
       "       -8.40776823e-01,  2.11818742e+00,  1.51144825e+00,  2.61509179e+00,\n",
       "        1.85301753e-01, -1.81777502e-01,  1.59226615e+00,  3.12951001e+00,\n",
       "       -3.17316733e+00,  2.77123588e+00,  2.10015716e+00,  1.05003794e+00,\n",
       "        1.38642420e+00,  5.90361494e-01,  7.32910128e-01,  9.97635188e-01,\n",
       "        4.78454570e-01,  4.83850554e-01, -2.66526366e+00, -1.01623856e+00,\n",
       "        3.98336145e+00,  5.78812705e-01,  5.76634701e-02, -1.13166281e+00,\n",
       "       -1.05687383e+00, -1.12013877e+00, -1.05825303e+00, -5.93896844e-01,\n",
       "       -5.70949675e-01,  9.89653709e-01,  2.83518741e+00,  1.84358862e+00,\n",
       "        3.40232673e-01, -1.09043875e+00,  3.02061049e+00,  7.00176600e-03,\n",
       "        1.57705280e+00, -2.39049362e+00,  1.09057946e+00, -2.50276521e+00,\n",
       "       -2.16433426e+00,  2.49752127e+00, -1.49026268e+00, -3.27571993e+00,\n",
       "       -9.65059653e-01,  4.63375418e+00, -8.79952423e-01, -2.88904624e-01,\n",
       "        2.03674954e+00, -7.91544650e-01,  2.36800757e+00,  6.70236757e-01,\n",
       "       -1.45525907e-01, -1.29062668e+00, -2.01389798e+00, -9.45277253e-01,\n",
       "        2.38081814e+00, -3.79709019e+00, -2.00866889e-01, -1.38396863e+00,\n",
       "       -1.44636877e+00, -7.54778666e-01,  1.23589321e+00,  1.80324140e+00,\n",
       "        1.17299103e+00,  8.39453521e-01,  6.97615279e-01, -1.44629560e+00,\n",
       "       -1.68046248e+00,  1.10245773e+00, -1.54714573e+00, -1.16954120e+00,\n",
       "       -3.82275220e-02, -2.42370460e+00, -8.29445917e-01, -1.39263882e+00,\n",
       "       -1.19987964e+00, -2.27520751e+00,  4.70925678e+00,  1.74965409e+00,\n",
       "       -9.24862735e-01, -1.24508865e+00,  4.92625913e-01, -2.47450041e+00,\n",
       "       -3.10929226e+00,  3.21176803e+00,  1.14916401e+00,  4.01258979e+00,\n",
       "       -3.26609016e+00,  1.55842711e+00, -6.54401048e-02,  1.04206300e+00,\n",
       "       -6.08535242e-01,  8.98907308e-01,  5.30233641e+00,  3.84502187e-03,\n",
       "       -2.63343621e-01,  6.51456271e-01, -4.14793115e+00, -1.13629484e+00,\n",
       "        8.02907993e-01,  2.28455594e+00, -1.31881435e+00,  1.11108571e+00,\n",
       "       -2.69789904e+00,  2.00372617e-01,  5.03193105e+00, -3.71873181e-01,\n",
       "       -1.30739954e+00,  5.18125508e-01, -2.21364619e+00,  9.22154939e-01,\n",
       "        1.19975699e+00,  5.29650472e+00, -2.80627044e-01, -2.39007608e+00,\n",
       "       -2.00798560e+00, -1.74684258e+00,  1.68742948e+00,  6.76316743e+00,\n",
       "        3.20925370e+00,  2.31651601e+00, -3.57048477e+00,  5.11136228e+00,\n",
       "        2.33472832e+00, -2.17321266e+00,  1.79792596e+00,  2.05734044e-01,\n",
       "        3.72127420e+00,  2.86763427e+00, -1.43566834e+00, -2.43749573e+00,\n",
       "        2.12885520e+00, -8.60967024e-01, -1.37416253e+00,  1.60575936e+00,\n",
       "       -2.02371593e+00, -1.07911011e+00,  1.29722781e-01,  2.05509512e+00,\n",
       "        1.44322486e+00, -3.58335183e+00,  8.59812774e-01,  2.40394603e+00,\n",
       "        5.73353056e-02,  1.90179219e-01,  1.36081709e-01,  1.09445630e+00,\n",
       "        2.23900932e+00, -2.50127058e+00, -3.33053358e-01, -1.31356931e+00,\n",
       "       -1.99530837e+00,  7.29773960e-01, -4.74539175e+00, -3.76340861e+00,\n",
       "        2.43220007e+00,  2.41120568e+00, -1.03979245e+00, -3.30300658e+00,\n",
       "        3.14004343e+00,  7.46970773e-01,  5.45976156e-01,  1.18094301e+00,\n",
       "        1.47428481e+00,  1.23721268e+00,  8.52686315e-02,  2.49946145e+00,\n",
       "        6.35299826e-01,  1.73143071e+00,  1.27599882e+00,  4.24126271e+00,\n",
       "       -3.69320048e+00, -2.42316156e+00,  3.65600473e+00,  1.05701427e+00,\n",
       "       -4.33110171e+00,  7.32788531e-01,  9.46308250e-01,  2.61634038e-01,\n",
       "       -5.27454326e+00,  1.32349476e+00,  5.99548673e-01,  3.07635355e+00,\n",
       "       -3.52896204e-01, -1.03651270e+00,  3.64210864e+00,  3.02610340e-01,\n",
       "       -1.30784374e-01,  1.94147805e+00,  2.49952083e+00,  4.83738620e+00,\n",
       "        7.30226881e-01, -1.00726854e+00, -7.20230183e-01, -1.73633541e+00,\n",
       "        1.83810514e+00, -3.01045760e+00, -2.83366336e+00, -7.01445854e-01,\n",
       "       -2.75385362e+00,  1.42306357e+00,  7.82919600e-01,  2.73567817e+00,\n",
       "        2.74460560e+00,  2.85482300e+00, -1.31173111e+00,  4.20383236e+00,\n",
       "        5.95045767e-01, -5.27712915e-01, -1.34376582e+00, -1.26183826e+00,\n",
       "       -2.10853597e+00, -5.72171977e-02,  6.89129290e-01,  2.31927397e+00,\n",
       "        4.06448206e-01,  2.18907555e-01, -9.24393238e-01, -8.35744158e+00,\n",
       "       -5.42921199e+00,  2.42902794e-01,  1.40213928e+00, -2.09533356e+00,\n",
       "        3.45342134e+00, -3.93134186e-01,  2.29216458e+00, -3.10771201e+00,\n",
       "        1.01879719e+00,  3.77570810e-01,  4.12778190e-01, -3.02386196e+00,\n",
       "       -1.42985324e+00,  2.82114154e+00,  2.58744909e-02, -2.15558890e+00,\n",
       "       -8.19529412e-01, -1.74934632e-01,  2.52069436e-01,  1.28539927e+00,\n",
       "        2.57124589e+00, -3.05049488e-01, -7.15171031e-01,  1.39385675e+00,\n",
       "       -8.59396790e-01, -4.28051995e+00, -7.71492344e-01,  1.67615847e+00,\n",
       "       -2.08043234e+00, -7.44468503e-01, -6.79014748e+00,  2.83596617e+00,\n",
       "       -2.24058153e+00,  2.54270960e-01,  4.09004018e+00,  1.51459673e+00,\n",
       "        3.61047915e+00, -8.15017696e-01, -4.78966973e+00,  1.85473683e+00,\n",
       "       -3.54731838e-01,  1.26755279e+00, -2.86633398e+00, -1.62462708e-01,\n",
       "       -9.54404613e-01, -2.31701980e+00, -3.18716089e+00, -1.97270616e+00,\n",
       "       -3.42336329e+00, -3.16708363e+00, -4.84628841e+00, -6.35409189e-01,\n",
       "        1.41124883e+00,  2.13354780e-01,  9.19690516e-01, -1.96890374e+00,\n",
       "        6.67810843e-01, -2.42708972e+00,  1.09709778e+00,  6.15420390e-01,\n",
       "        4.81642005e-01,  1.35808412e+00, -1.50386290e+00,  3.14588141e+00,\n",
       "       -1.00338090e+00, -1.15064485e+00, -3.65280275e-01, -3.47620965e+00,\n",
       "        9.79576908e-01,  1.92277812e+00, -4.07906536e+00, -1.28153773e+00,\n",
       "        3.36709313e-01, -1.98402755e+00,  3.92450251e+00,  1.78208699e-01,\n",
       "       -2.41323110e+00, -3.93932697e-01, -3.05326454e+00, -1.66095367e+00,\n",
       "        1.85152903e+00, -3.31050280e+00, -1.36303142e+00,  1.37183907e+00,\n",
       "       -4.09173990e+00,  2.85842870e+00,  2.51693021e+00, -2.06982490e+00,\n",
       "       -2.64049911e+00,  1.15238302e+00, -3.00126384e+00,  1.57928970e+00,\n",
       "        2.92052395e+00,  1.22871330e-01, -1.46193241e+00, -5.90869271e+00,\n",
       "        1.32941968e+00,  1.96986951e+00,  2.36557671e+00, -1.16225095e+00,\n",
       "       -5.91087192e-01, -1.94723207e+00,  2.21852220e+00,  2.72193065e+00,\n",
       "       -4.52120426e+00, -2.55286308e+00, -3.98991561e+00, -3.12512151e+00,\n",
       "       -2.74688462e-01,  2.23871819e+00, -7.15808721e-01, -1.81361877e+00,\n",
       "       -1.17318106e+00, -2.89996509e+00,  1.72735339e+00,  1.48309587e+00,\n",
       "       -2.25680327e+00, -2.63864017e+00, -2.45958136e-02, -6.57469822e-01,\n",
       "       -1.43754111e+00, -2.30021696e+00,  1.63517531e-01,  3.50438482e+00,\n",
       "       -4.28014975e+00, -2.77755301e+00, -4.46323950e-01,  4.49515020e-01,\n",
       "        5.39817131e-01, -2.09156196e+00, -3.54590050e+00, -1.58141686e+00,\n",
       "       -1.76737589e+00,  1.42757547e+00, -2.43695870e-01,  2.03472845e+00,\n",
       "       -1.75072169e-01,  3.90875911e+00,  2.22222200e+00, -4.65536322e+00,\n",
       "        3.43135790e+00,  8.98860044e-02, -1.25165957e+00, -4.67235186e-01,\n",
       "        1.53673835e+00,  1.06573809e+00,  3.62070458e-02, -1.75824737e+00,\n",
       "        7.42797459e-02, -2.10520573e+00,  3.90758301e-01,  1.03232362e+00,\n",
       "       -5.81227667e-01,  1.04429176e-01, -8.75257973e-01, -6.15483085e-01,\n",
       "        1.55344762e+00,  3.43968795e+00,  1.05099032e+00,  2.59006580e+00,\n",
       "       -3.14088906e+00,  2.10113741e+00,  7.51087833e-01, -1.07431096e+00,\n",
       "       -9.70940576e-01,  2.32080755e+00, -1.02097738e+00, -3.02070799e+00,\n",
       "       -2.55203254e+00,  3.22789151e+00, -3.90434532e+00,  4.88129190e+00,\n",
       "        3.02656943e+00, -3.76885127e+00,  1.57565680e+00,  5.84481147e-01,\n",
       "        2.21696645e+00,  1.51936092e+00, -6.80217754e-01,  4.94583319e+00,\n",
       "        1.37567039e+00,  2.29165924e-01,  6.33077727e+00, -2.44557019e+00,\n",
       "        3.53809731e+00, -1.15463181e+00, -7.70788067e-01, -1.09865835e+00,\n",
       "        6.23882864e-01,  6.97993042e-01,  4.24976190e+00,  1.14460657e+00,\n",
       "       -1.81140284e+00,  1.02502859e+00, -3.02523519e+00, -2.20477390e+00,\n",
       "        9.89498458e-01,  1.21420863e+00,  1.96397246e+00,  4.42725662e-01,\n",
       "       -2.66578722e+00,  2.06141864e+00,  3.61227963e-01, -8.68793048e-01,\n",
       "       -2.41353341e+00, -3.07433027e+00,  4.63756540e+00,  5.59349371e-01,\n",
       "       -1.09986501e+00,  3.56062645e-01,  2.55845410e-01, -1.99620558e+00,\n",
       "        1.99835912e+00,  2.76818303e-01, -9.96349834e-01,  3.82021572e-01,\n",
       "        4.64428904e-01, -2.19767230e+00,  1.08625598e-01,  1.28579994e+00,\n",
       "        8.80006313e-01, -1.65048451e-02, -9.66392043e-01, -3.28299431e+00,\n",
       "        2.10515800e+00,  8.91314777e-01,  3.44705880e-01,  1.23608392e+00,\n",
       "        3.35277138e-01,  1.64695946e+00,  2.33533535e+00, -7.98013053e-01,\n",
       "        2.26725261e-01, -3.47728751e+00, -2.73328412e+00, -3.76269138e+00,\n",
       "       -2.42228874e+00,  3.48055936e+00, -3.70640324e+00,  7.01214775e-02,\n",
       "        1.09954730e+00,  3.11791399e+00,  3.93241762e+00, -5.85070290e+00,\n",
       "        1.32605101e-01, -3.68210219e-02, -2.41494586e+00,  6.05388536e-01,\n",
       "       -4.98955140e+00, -2.58357796e+00,  3.75741486e+00, -1.14386502e-01,\n",
       "       -3.18630535e-01,  1.78794830e+00,  1.72860347e+00,  6.83327839e-02,\n",
       "        2.75418092e+00,  7.19432948e-01,  1.30929831e+00, -1.81719847e-02,\n",
       "       -3.21657485e+00, -1.87516923e+00, -1.65827230e+00,  2.66967999e+00,\n",
       "       -1.31062743e-01,  6.97289970e-01, -3.98558382e+00, -1.62222453e+00,\n",
       "       -5.53925656e-01,  1.69699238e+00, -1.31974703e+00,  2.74646799e+00,\n",
       "        8.56627304e-01,  8.45401624e-01, -3.23903217e+00, -2.20006327e-01,\n",
       "       -1.16812062e+00,  2.95565081e+00, -8.39891310e-01,  2.77819251e+00,\n",
       "        7.67720886e+00,  1.04491129e+00, -7.34435332e-01, -1.50592066e-01,\n",
       "       -9.85557575e-02, -5.02224000e-01, -1.32371058e+00,  2.97480358e+00,\n",
       "        1.33221616e-01,  1.48954422e+00,  2.90031753e-01, -6.92238134e-02,\n",
       "       -1.61094552e+00,  3.39124131e+00, -4.27687184e+00,  2.33548028e+00,\n",
       "        1.72982062e+00, -2.13308551e+00, -1.45291828e+00, -2.82537414e+00,\n",
       "       -1.06836141e+00,  5.85817847e+00,  3.87011604e-01,  4.63234884e+00,\n",
       "       -6.38978199e-01,  2.38773300e+00, -1.85591210e-01,  7.38316566e-01,\n",
       "        3.54335496e-01,  1.03284337e+00,  3.42340470e-01, -4.48400604e-01,\n",
       "       -4.27375973e-01,  1.82488332e+00,  4.92935971e-01,  6.42652869e-01,\n",
       "       -2.05785345e+00, -2.03116391e-02,  7.98399707e-01,  1.39066277e-01,\n",
       "        3.75521871e+00,  1.36599876e-01, -1.54057156e+00,  2.41059922e+00,\n",
       "        4.69782450e+00,  5.92705530e-01, -2.43399442e+00, -1.42985859e-01,\n",
       "        3.13460285e+00, -1.11761955e+00, -6.44264969e-01,  5.81664219e-01,\n",
       "       -2.20449625e+00,  3.07850661e-01,  1.61912097e+00, -2.28067633e-01,\n",
       "       -9.08457369e-01, -3.07377484e+00, -3.72233931e+00,  2.18232925e+00,\n",
       "        3.70273869e+00, -1.56963207e+00,  3.23467093e+00,  1.23275801e+00,\n",
       "        2.56211638e+00, -2.11782619e+00,  1.51951619e+00, -1.29694246e+00,\n",
       "        2.60563021e+00,  3.14158492e+00, -2.89401572e+00,  2.68852112e-01,\n",
       "        3.44551434e+00,  3.31618474e-01, -4.83491876e+00, -8.67318215e-01,\n",
       "        2.26217721e+00,  2.07002120e-01, -2.01597000e+00, -8.56270074e-01,\n",
       "       -3.78002312e-01, -1.17294430e+00, -3.59207258e+00,  3.95046682e+00,\n",
       "        2.15520755e+00,  2.60267926e+00,  3.30420759e-01,  8.35143866e-01,\n",
       "       -2.50606638e+00, -1.97210312e+00, -3.35550235e-01, -1.94349080e-01,\n",
       "        1.43460822e+00, -5.31976121e-01,  3.80391925e+00,  1.44740971e+00,\n",
       "        8.18208375e-01, -2.51808630e+00,  5.05169739e-01, -1.35771506e+00,\n",
       "       -1.45767380e+00, -3.03335964e+00, -2.72170225e+00,  3.12191065e+00,\n",
       "       -1.79124596e+00,  3.04919666e+00, -4.97344515e-01,  3.91618086e-01,\n",
       "        1.94340182e+00, -1.32090625e+00,  7.19857918e-01,  8.59919836e-01,\n",
       "        9.21207025e-01, -5.10007356e-01, -1.09212940e-01,  2.25564681e+00,\n",
       "        2.61877044e+00, -2.47459054e+00,  1.79408691e+00,  2.11747571e+00,\n",
       "        3.13987303e-02, -5.11212174e-01,  1.01309171e+00,  2.67548619e+00,\n",
       "        4.79354927e-01, -8.92862413e-01, -3.90456054e-01,  5.00590300e+00,\n",
       "       -4.68165202e-01,  1.22447676e-01, -1.55077848e+00, -2.83581229e+00,\n",
       "        1.93033836e-01, -1.82407493e+00,  1.03599533e+00,  3.38352046e+00,\n",
       "       -4.94199997e-01, -2.14067927e+00, -1.16418532e+00, -1.57658607e-01,\n",
       "       -1.94632663e+00,  3.18180678e+00, -8.11024941e-01, -5.09975122e+00,\n",
       "        3.87998882e+00,  2.41656093e-01,  2.37871980e+00,  3.99288393e+00,\n",
       "       -2.48129054e+00, -1.09817137e+00,  2.77509450e+00,  2.02139875e+00,\n",
       "       -1.90554014e+00,  2.26972530e+00,  9.77172300e-02,  2.85733665e-01,\n",
       "       -1.03595963e+00, -2.51109907e+00, -2.40672198e-02,  3.09507702e-01,\n",
       "        1.50994363e+00, -7.97695311e-01, -1.46602299e+00,  1.51448542e+00,\n",
       "        7.07101362e-01, -1.59494582e+00,  8.06489982e-01,  1.90903963e+00,\n",
       "       -1.58659195e-01, -2.88383190e+00, -6.35148647e+00, -2.03022757e+00,\n",
       "        1.39908767e+00,  1.08641585e+00, -4.52118504e-01,  2.76844320e+00,\n",
       "       -3.42095646e-01,  2.56777964e+00, -3.82023651e+00, -3.76356972e+00,\n",
       "        3.17616929e-01,  2.35226787e+00, -1.67396690e+00,  4.32067034e+00,\n",
       "        3.12475047e+00, -2.00877092e+00,  1.50566892e+00, -6.45284298e-01,\n",
       "        1.02040198e+00, -1.65827962e+00, -1.69630011e+00,  2.56312670e+00,\n",
       "       -1.64709838e+00, -4.68828199e+00,  7.24700975e-01, -1.32743871e-01,\n",
       "       -1.05381045e+00,  1.55106041e+00, -9.24187426e-01, -6.52553006e+00,\n",
       "       -2.54469358e+00,  1.49210234e+00,  3.34337615e-01,  4.87894270e-01,\n",
       "       -3.78128071e+00,  1.25606648e+00,  3.30362444e-01, -2.59623892e-02,\n",
       "        3.08498208e+00, -4.01380441e-01,  1.05331091e+00,  9.74123327e-01,\n",
       "       -2.01419183e-01,  2.75592200e+00,  1.71373566e+00, -3.81416394e+00,\n",
       "        3.27675987e+00,  3.08717991e+00, -2.94599217e+00, -2.31891994e+00,\n",
       "        9.33727052e-01,  9.57691967e-02,  1.19242018e+00, -1.45593055e+00,\n",
       "        3.64497083e+00,  1.22085703e-01, -3.39243942e+00,  1.07229163e+00,\n",
       "       -2.06271632e+00,  3.19224679e-01,  4.53037500e-01,  5.35054945e-01,\n",
       "        5.40717697e+00, -4.73008756e-01, -1.67053692e+00,  4.24469014e-01,\n",
       "        6.29217790e-02,  1.29700811e-01, -3.59308553e+00, -2.10865015e+00,\n",
       "       -2.36032340e+00,  1.48253082e+00, -1.41087867e+00,  2.36892299e+00,\n",
       "        1.15022054e+00,  2.48981238e+00, -2.00338212e+00,  9.41586254e-01,\n",
       "        3.55774042e+00,  1.87405229e+00, -2.63970967e-01,  2.91767719e+00,\n",
       "        1.96995832e+00, -5.32940168e-01, -2.77464119e+00, -2.49798720e+00,\n",
       "       -9.77423243e-02,  1.50055360e+00,  1.50563003e+00,  2.73033987e+00,\n",
       "       -1.73114312e-01, -2.47602759e+00,  1.11277879e+00,  1.30889543e+00,\n",
       "        3.07208657e+00, -4.83537040e+00,  7.85421942e-01,  7.44915116e-01,\n",
       "        8.34825108e-01, -7.82647089e-01, -1.14122081e+00, -7.17827471e-02,\n",
       "       -3.22388408e+00, -5.29796087e+00, -2.30347253e-01, -7.39630479e-01,\n",
       "       -3.15899493e+00, -2.26381870e+00,  1.26108277e-02,  2.36972122e+00,\n",
       "       -1.02001454e+00, -6.70176520e-01,  4.05946198e+00,  5.83708822e+00,\n",
       "       -4.14578849e+00,  8.52279675e-01, -4.98505476e-01,  2.55397370e+00,\n",
       "       -9.26065401e-01, -2.99537493e+00, -1.00048664e+00, -1.21078030e+00,\n",
       "       -2.25112189e+00, -3.06646816e+00,  3.56479846e-01,  3.09025425e+00,\n",
       "       -1.56930295e+00, -4.39732472e-01,  5.18263453e-01, -4.28948241e+00,\n",
       "       -2.70839542e+00,  4.42576204e+00,  8.53673630e-01,  7.96136435e-01,\n",
       "        9.65716825e-02, -2.61318693e+00,  4.29394073e+00, -1.13857154e+00,\n",
       "        1.11979417e+00, -5.36730308e-01,  1.25953271e+00, -1.00265042e+00,\n",
       "       -2.23743778e+00, -2.79236778e+00, -1.47306197e+00, -1.40759501e+00,\n",
       "       -1.22411536e+00,  2.06337745e+00,  1.48572079e+00, -2.77114681e-01,\n",
       "       -1.85750981e+00, -1.49480004e+00,  2.90763739e-01, -1.36492191e+00,\n",
       "        2.02822417e+00, -3.59921192e+00, -2.28154089e+00,  2.36767169e-01,\n",
       "       -3.01671210e+00, -2.49013779e+00,  3.23453120e-01,  1.01037531e+00,\n",
       "        9.50421387e-01,  1.25261482e+00, -6.28692994e+00, -7.35325046e-01,\n",
       "       -2.67486353e+00, -3.41405957e+00, -6.18830688e+00,  3.62371218e+00,\n",
       "       -3.93572000e+00,  2.67360745e+00,  2.48610669e-02, -2.28352297e+00,\n",
       "       -6.82227164e-01,  8.37470108e-01, -1.51866975e-01,  2.80315463e+00,\n",
       "       -2.10780375e+00,  7.83075840e-01, -2.36915248e+00,  6.49473588e-02,\n",
       "        3.29473258e+00, -3.07981167e+00, -4.52486542e+00, -6.13393046e-02,\n",
       "       -9.41792658e-01,  3.53610762e+00,  8.78558013e-01, -2.11156748e+00,\n",
       "        2.11971511e+00, -1.33976142e-01,  4.23890549e-01, -8.02893438e-01,\n",
       "       -2.80147373e-02, -2.39069830e+00,  8.23832550e-01,  2.20337861e+00,\n",
       "        9.16474531e-01,  2.14721009e+00,  1.60812695e+00,  3.46978850e-01,\n",
       "        1.85208821e+00, -5.69050107e-01,  1.76424890e+00,  3.12242611e+00,\n",
       "       -5.02510564e+00,  1.19798560e+00,  2.52766715e+00, -3.71105709e+00,\n",
       "        1.75126448e-01,  1.87532628e-01,  2.35192669e+00, -7.16375568e-02,\n",
       "       -6.14595138e-01, -1.72760568e+00,  1.77925453e+00, -2.58808371e+00,\n",
       "        2.52086710e+00, -3.16777433e-01,  4.78032452e-01, -2.86473027e+00,\n",
       "       -2.04302955e-01,  3.78852252e-01,  1.31178243e+00,  1.08283770e+00,\n",
       "       -2.15282598e+00, -4.29105153e-01, -3.75094563e+00, -1.09188600e+00,\n",
       "        2.73066095e+00,  1.02133469e-02, -5.26022391e-01,  1.21510305e+00,\n",
       "        5.05016701e-02, -1.43899907e+00,  3.75078863e-01,  3.40103111e+00,\n",
       "        3.08218471e+00, -8.13114426e-01,  1.38119343e+00, -2.34981178e+00,\n",
       "       -9.34617627e-01,  1.62606803e+00,  3.24209669e+00,  1.19329606e-01])"
      ]
     },
     "execution_count": 431,
     "metadata": {},
     "output_type": "execute_result"
    }
   ],
   "source": [
    "o1.predict(v1.reshape(-1,1)) - outcome"
   ]
  },
  {
   "cell_type": "code",
   "execution_count": null,
   "metadata": {},
   "outputs": [],
   "source": []
  }
 ],
 "metadata": {
  "kernelspec": {
   "display_name": "Python 3",
   "language": "python",
   "name": "python3"
  },
  "language_info": {
   "codemirror_mode": {
    "name": "ipython",
    "version": 3
   },
   "file_extension": ".py",
   "mimetype": "text/x-python",
   "name": "python",
   "nbconvert_exporter": "python",
   "pygments_lexer": "ipython3",
   "version": "3.7.6"
  }
 },
 "nbformat": 4,
 "nbformat_minor": 4
}
